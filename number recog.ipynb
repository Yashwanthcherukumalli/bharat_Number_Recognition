{
 "cells": [
  {
   "cell_type": "code",
   "execution_count": 11,
   "id": "42b75b5d",
   "metadata": {},
   "outputs": [],
   "source": [
    "import tensorflow as tf\n",
    "from keras.datasets import mnist\n",
    "import numpy as np\n",
    "from PIL import ImageGrab, Image"
   ]
  },
  {
   "cell_type": "code",
   "execution_count": 3,
   "id": "dc29f5aa",
   "metadata": {},
   "outputs": [],
   "source": [
    "# Load the EMNIST dataset (digits and uppercase letters)\n",
    "(x_train, y_train), (x_test, y_test) = mnist.load_data()\n",
    "\n",
    "# Normalize and reshape the data\n",
    "x_train = x_train.astype('float32') / 255.0\n",
    "x_test = x_test.astype('float32') / 255.0\n",
    "\n",
    "# Reshape to include the channel dimension (1 for grayscale)\n",
    "x_train = np.expand_dims(x_train, axis=-1)\n",
    "x_test = np.expand_dims(x_test, axis=-1)\n",
    "\n",
    "# Convert labels to one-hot encoding\n",
    "y_train = tf.keras.utils.to_categorical(y_train, num_classes=36)  # 26 letters + 10 digits = 36 classes\n",
    "y_test = tf.keras.utils.to_categorical(y_test, num_classes=36)\n"
   ]
  },
  {
   "cell_type": "code",
   "execution_count": 4,
   "id": "76577077",
   "metadata": {},
   "outputs": [
    {
     "name": "stdout",
     "output_type": "stream",
     "text": [
      "Epoch 1/10\n",
      "469/469 [==============================] - 17s 36ms/step - loss: 0.3918 - accuracy: 0.8839 - val_loss: 0.0917 - val_accuracy: 0.9722\n",
      "Epoch 2/10\n",
      "469/469 [==============================] - 17s 37ms/step - loss: 0.1289 - accuracy: 0.9615 - val_loss: 0.0674 - val_accuracy: 0.9783\n",
      "Epoch 3/10\n",
      "469/469 [==============================] - 28s 59ms/step - loss: 0.0961 - accuracy: 0.9717 - val_loss: 0.0516 - val_accuracy: 0.9827\n",
      "Epoch 4/10\n",
      "469/469 [==============================] - 28s 59ms/step - loss: 0.0777 - accuracy: 0.9762 - val_loss: 0.0506 - val_accuracy: 0.9838\n",
      "Epoch 5/10\n",
      "469/469 [==============================] - 27s 57ms/step - loss: 0.0687 - accuracy: 0.9789 - val_loss: 0.0465 - val_accuracy: 0.9845\n",
      "Epoch 6/10\n",
      "469/469 [==============================] - 27s 57ms/step - loss: 0.0582 - accuracy: 0.9822 - val_loss: 0.0398 - val_accuracy: 0.9858\n",
      "Epoch 7/10\n",
      "469/469 [==============================] - 27s 57ms/step - loss: 0.0532 - accuracy: 0.9839 - val_loss: 0.0385 - val_accuracy: 0.9868\n",
      "Epoch 8/10\n",
      "469/469 [==============================] - 27s 57ms/step - loss: 0.0475 - accuracy: 0.9856 - val_loss: 0.0366 - val_accuracy: 0.9875\n",
      "Epoch 9/10\n",
      "469/469 [==============================] - 27s 58ms/step - loss: 0.0452 - accuracy: 0.9857 - val_loss: 0.0349 - val_accuracy: 0.9878\n",
      "Epoch 10/10\n",
      "469/469 [==============================] - 29s 62ms/step - loss: 0.0404 - accuracy: 0.9869 - val_loss: 0.0359 - val_accuracy: 0.9879\n"
     ]
    },
    {
     "data": {
      "text/plain": [
       "<keras.callbacks.History at 0x156db5b2070>"
      ]
     },
     "execution_count": 4,
     "metadata": {},
     "output_type": "execute_result"
    }
   ],
   "source": [
    "# Define the model architecture\n",
    "model = tf.keras.Sequential([\n",
    "    tf.keras.layers.Conv2D(32, (3, 3), activation='relu', input_shape=(28, 28, 1)),\n",
    "    tf.keras.layers.MaxPooling2D((2, 2)),\n",
    "    tf.keras.layers.Flatten(),\n",
    "    tf.keras.layers.Dense(128, activation='relu'),\n",
    "    tf.keras.layers.Dropout(0.5),\n",
    "    tf.keras.layers.Dense(36, activation='softmax')  # 36 classes (26 letters + 10 digits)\n",
    "])\n",
    "\n",
    "# Compile the model\n",
    "model.compile(optimizer='adam', loss='categorical_crossentropy', metrics=['accuracy'])\n",
    "\n",
    "# Train the model\n",
    "model.fit(x_train, y_train, epochs=10, batch_size=128, validation_data=(x_test, y_test))\n"
   ]
  },
  {
   "cell_type": "code",
   "execution_count": 5,
   "id": "6b2bb61c",
   "metadata": {},
   "outputs": [],
   "source": [
    "# Function to predict a single image\n",
    "def predict_image(image):\n",
    "    # Preprocess the image\n",
    "    img = image.resize((28, 28))\n",
    "    img = img.convert('L')\n",
    "    img = np.array(img)\n",
    "    img = img.reshape(1, 28, 28, 1)\n",
    "    img = img / 255.0\n",
    "\n",
    "    # Make prediction\n",
    "    result = model.predict(img)[0]\n",
    "    predicted_class = np.argmax(result)\n",
    "    confidence = max(result)\n",
    "\n",
    "    return predicted_class, confidence\n"
   ]
  },
  {
   "cell_type": "code",
   "execution_count": 6,
   "id": "3d26e530",
   "metadata": {},
   "outputs": [
    {
     "name": "stdout",
     "output_type": "stream",
     "text": [
      "1/1 [==============================] - 0s 168ms/step\n",
      "Predicted class: 8, Confidence: 29.49%\n"
     ]
    }
   ],
   "source": [
    "# Test the model with a screenshot of the screen\n",
    "def test_model_with_screenshot():\n",
    "    rect = (0, 0, 300, 300)  # Define the region for the screenshot\n",
    "    im = ImageGrab.grab(rect)\n",
    "    predicted_class, confidence = predict_image(im)\n",
    "    print(f\"Predicted class: {predicted_class}, Confidence: {confidence*100:.2f}%\")\n",
    "\n",
    "# Test the model with a screenshot\n",
    "test_model_with_screenshot()"
   ]
  },
  {
   "cell_type": "code",
   "execution_count": 9,
   "id": "49635912",
   "metadata": {},
   "outputs": [
    {
     "name": "stdout",
     "output_type": "stream",
     "text": [
      "1/1 [==============================] - 0s 47ms/step\n"
     ]
    }
   ],
   "source": [
    "from keras.models import load_model\n",
    "from tkinter import *\n",
    "import tkinter as tk\n",
    "import win32gui\n",
    "from PIL import ImageGrab, Image\n",
    "import numpy as np\n",
    "\n",
    "# Load the pre-trained model\n",
    "model = load_model('mnist.h5')\n",
    "\n",
    "def predict_digit(img):\n",
    "    # Resize image to 28x28 pixels\n",
    "    img = img.resize((28, 28))\n",
    "    # Convert RGB to grayscale\n",
    "    img = img.convert('L')\n",
    "    img = np.array(img)\n",
    "    # Reshaping to support our model input and normalizing\n",
    "    img = img.reshape(1, 28, 28, 1)\n",
    "    img = img / 255.0\n",
    "    # Predict the class\n",
    "    res = model.predict(img)[0]\n",
    "    return np.argmax(res), max(res)\n",
    "\n",
    "class App(tk.Tk):\n",
    "    def __init__(self):\n",
    "        super().__init__()\n",
    "        self.x = self.y = 0\n",
    "        # Creating elements\n",
    "        self.canvas = tk.Canvas(self, width=300, height=300, bg=\"white\", cursor=\"cross\")\n",
    "        self.label = tk.Label(self, text=\"Draw a digit\", font=(\"Helvetica\", 48))\n",
    "        self.classify_btn = tk.Button(self, text=\"Recognize\", command=self.classify_handwriting)\n",
    "        self.button_clear = tk.Button(self, text=\"Clear\", command=self.clear_all)\n",
    "        # Grid structure\n",
    "        self.canvas.grid(row=0, column=0, pady=2, sticky=W)\n",
    "        self.label.grid(row=0, column=1, pady=2, padx=2)\n",
    "        self.classify_btn.grid(row=1, column=1, pady=2, padx=2)\n",
    "        self.button_clear.grid(row=1, column=0, pady=2)\n",
    "        self.canvas.bind(\"<B1-Motion>\", self.draw_lines)\n",
    "\n",
    "    def draw_lines(self, event):\n",
    "        self.x = event.x\n",
    "        self.y = event.y\n",
    "        r = 8\n",
    "        self.canvas.create_oval(self.x - r, self.y - r, self.x + r, self.y + r, fill='black')\n",
    "\n",
    "    def classify_handwriting(self):\n",
    "        HWND = self.canvas.winfo_id()  # get the handle of the canvas\n",
    "        rect = win32gui.GetWindowRect(HWND)  # get the coordinate of the canvas\n",
    "        im = ImageGrab.grab(rect)\n",
    "        digit, confidence = predict_digit(im)\n",
    "        self.label.configure(text=f\"Predicted digit: {digit}\\nConfidence: {confidence*100:.2f}%\")\n",
    "\n",
    "    def clear_all(self):\n",
    "        self.canvas.delete(\"all\")\n",
    "\n",
    "if __name__ == \"__main__\":\n",
    "    app = App()\n",
    "    mainloop()\n"
   ]
  }
 ],
 "metadata": {
  "kernelspec": {
   "display_name": "Python 3 (ipykernel)",
   "language": "python",
   "name": "python3"
  },
  "language_info": {
   "codemirror_mode": {
    "name": "ipython",
    "version": 3
   },
   "file_extension": ".py",
   "mimetype": "text/x-python",
   "name": "python",
   "nbconvert_exporter": "python",
   "pygments_lexer": "ipython3",
   "version": "3.9.13"
  }
 },
 "nbformat": 4,
 "nbformat_minor": 5
}
